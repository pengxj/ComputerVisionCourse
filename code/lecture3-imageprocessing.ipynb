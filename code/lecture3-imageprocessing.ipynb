{
 "cells": [
  {
   "cell_type": "markdown",
   "metadata": {},
   "source": [
    "### 图像的点运算"
   ]
  },
  {
   "cell_type": "code",
   "execution_count": null,
   "metadata": {},
   "outputs": [],
   "source": [
    "import cv2\n",
    "import numpy as np\n",
    "from  matplotlib import pyplot as plt\n",
    "%matplotlib inline\n",
    "\n",
    "#------图像显示\n",
    "def cvshow(img):\n",
    "    cv2.imshow('img', img)\n",
    "    cv2.waitKey(0)\n",
    "    cv2.destroyAllWindows()\n",
    "\n",
    "def show(img):\n",
    "    if img.ndim == 2:\n",
    "        plt.imshow(img,cmap=\"gray\")\n",
    "    elif img.ndim == 3:\n",
    "        plt.imshow(img)\n",
    "    plt.show()"
   ]
  },
  {
   "cell_type": "code",
   "execution_count": null,
   "metadata": {},
   "outputs": [],
   "source": [
    "gray = cv2.imread('images/lena.bmp')\n",
    "#  = cv2.cvtColor(img, cv2.COLOR_BGR2GRAY)\n",
    "cvshow(gray)\n",
    "#----对比度调整\n",
    "gray1 = 1.2*gray\n",
    "gray1[gray1>255] = 255\n",
    "cvshow(gray1.astype(np.uint8))\n",
    "#-----亮度调整\n",
    "gray2 = 1.0*gray + 100\n",
    "gray2[gray2>255] = 255\n",
    "cvshow(gray2.astype(np.uint8))"
   ]
  },
  {
   "cell_type": "markdown",
   "metadata": {},
   "source": [
    "## 直方图及均衡化"
   ]
  },
  {
   "cell_type": "code",
   "execution_count": null,
   "metadata": {},
   "outputs": [],
   "source": [
    "img = cv2.imread('images/lena.bmp', 0)\n",
    "def get_hist(img):\n",
    "    hist = np.zeros(256)\n",
    "    for i in range(img.shape[0]):\n",
    "        for j in range(img.shape[1]):\n",
    "            hist[img[i,j]] += 1\n",
    "    return hist\n",
    "\n",
    "def show_hist(hist, bins=256):\n",
    "    plt.bar(range(bins),hist)\n",
    "    plt.show()\n",
    "\n",
    "show_hist(get_hist(img))\n",
    "#-----制作偏暗的图片\n",
    "img1 = 0.5*img\n",
    "img1 = img1.astype(np.uint8)\n",
    "show_hist(get_hist(img1))\n",
    "cvshow(img1)\n",
    "#-----直方图均衡\n",
    "img_equ = cv2.equalizeHist(img1)\n",
    "cvshow(img_equ)\n",
    "show_hist(get_hist(img_equ))"
   ]
  },
  {
   "cell_type": "markdown",
   "metadata": {},
   "source": [
    "## 图像之间的运算"
   ]
  },
  {
   "cell_type": "code",
   "execution_count": null,
   "metadata": {},
   "outputs": [],
   "source": [
    "foreGroundImage = cv2.imread(\"images/puppets.png\",-1)\n",
    "print(foreGroundImage.shape)\n",
    "## 先将通道分离\n",
    "b,g,r,a = cv2.split(foreGroundImage)\n",
    "foreground = cv2.merge((b,g,r))\n",
    "#得到PNG图像的alpha通道，即alpha掩模\n",
    "alpha = cv2.merge((a,a,a))\n",
    "background = cv2.imread(\"images/bg.jpg\")\n",
    "background = cv2.resize(background, (foreground.shape[1],foreground.shape[0]))\n",
    "print(background.shape)\n",
    "foreground = foreground.astype(float)\n",
    "background = background.astype(float)\n",
    "cvshow(alpha)\n",
    "alpha = alpha.astype(float)/255\n",
    "foreground = cv2.multiply(alpha,foreground)\n",
    "background = cv2.multiply(1-alpha,background)\n",
    "outImage = foreground + background\n",
    "cvshow(outImage.astype(np.uint8))"
   ]
  },
  {
   "cell_type": "markdown",
   "metadata": {},
   "source": [
    "## 图像滤波"
   ]
  },
  {
   "cell_type": "code",
   "execution_count": null,
   "metadata": {},
   "outputs": [],
   "source": [
    "img = cv2.imread('images/lena.bmp', 0)\n",
    "cvshow(img)\n",
    "#-----均值滤波\n",
    "blur = cv2.blur(img, (5,5))#模板大小5*5\n",
    "cvshow(blur)\n",
    "#-----高斯滤波\n",
    "blur = cv2.GaussianBlur(img, (5,5), sigmaX=0)\n",
    "cvshow(blur)\n",
    "#-----非线性之中值滤波\n",
    "blur = cv2.medianBlur(img, 5)\n",
    "cvshow(blur)\n",
    "#------双边滤波\n",
    "blur = cv2.bilateralFilter(img,d=10,sigmaColor=50,sigmaSpace=50)\n",
    "cvshow(blur)"
   ]
  },
  {
   "cell_type": "code",
   "execution_count": null,
   "metadata": {},
   "outputs": [],
   "source": []
  }
 ],
 "metadata": {
  "kernelspec": {
   "display_name": "Python 3",
   "language": "python",
   "name": "python3"
  },
  "language_info": {
   "codemirror_mode": {
    "name": "ipython",
    "version": 3
   },
   "file_extension": ".py",
   "mimetype": "text/x-python",
   "name": "python",
   "nbconvert_exporter": "python",
   "pygments_lexer": "ipython3",
   "version": "3.8.5"
  }
 },
 "nbformat": 4,
 "nbformat_minor": 4
}
