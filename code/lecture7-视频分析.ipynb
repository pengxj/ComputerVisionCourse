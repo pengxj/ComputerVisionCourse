{
 "cells": [
  {
   "cell_type": "markdown",
   "metadata": {},
   "source": [
    "## 视频处理"
   ]
  },
  {
   "cell_type": "code",
   "execution_count": 1,
   "metadata": {},
   "outputs": [],
   "source": [
    "import cv2\n",
    "import numpy as np\n",
    "from  matplotlib import pyplot as plt\n",
    "%matplotlib inline\n",
    "\n",
    "\n",
    "def cvshow(img):\n",
    "    cv2.imshow('img', img)\n",
    "    cv2.waitKey(10)\n",
    "    cv2.destroyAllWindows()\n",
    "\n",
    "def show(img):\n",
    "    if img.ndim == 2:\n",
    "        plt.imshow(img,cmap=\"gray\")\n",
    "    elif img.ndim == 3:\n",
    "        plt.imshow(img)\n",
    "    plt.show()\n",
    "    \n",
    "cap = cv2.VideoCapture('test.avi') #0或者其他数字代表摄像头ID\n",
    "#------------视频差分运动检测\n",
    "ret, frame0 = cap.read()\n",
    "gray0 = cv2.cvtColor(frame0, cv2.COLOR_BGR2GRAY)\n",
    "while True:\n",
    "    ret, frame = cap.read()\n",
    "    if ret:\n",
    "        gray = cv2.cvtColor(frame, cv2.COLOR_BGR2GRAY)\n",
    "        dif = cv2.absdiff(gray,gray0)\n",
    "        gray0 = gray\n",
    "        cv2.imshow('img', dif)\n",
    "        if cv2.waitKey(50) & 0xFF == ord('q'):\n",
    "            cv2.destroyAllWindows()\n",
    "            break\n",
    "    else:\n",
    "        cv2.destroyAllWindows()\n",
    "        break"
   ]
  },
  {
   "cell_type": "markdown",
   "metadata": {},
   "source": [
    "### 统计平均背景建模"
   ]
  },
  {
   "cell_type": "code",
   "execution_count": 12,
   "metadata": {},
   "outputs": [],
   "source": [
    "import pdb,cv2\n",
    "import numpy as np\n",
    "#-----------背景建模和差分\n",
    "cap = cv2.VideoCapture('test.avi') #0或者其他数字代表摄像头ID\n",
    "ret, frame0 = cap.read()\n",
    "gray0 = cv2.cvtColor(frame0, cv2.COLOR_BGR2GRAY)\n",
    "hist_frames = []\n",
    "hist_frames.append(gray0)\n",
    "while True:\n",
    "    ret, frame = cap.read()\n",
    "    if ret:\n",
    "        gray = cv2.cvtColor(frame, cv2.COLOR_BGR2GRAY)\n",
    "        hist_frames.append(gray)\n",
    "        if len(hist_frames)==100:\n",
    "#             pdb.set_trace()\n",
    "            np_frames = np.array(hist_frames)\n",
    "            np_frames.shape\n",
    "            bg = np.mean(np_frames, axis = 0)\n",
    "            dif = cv2.absdiff(gray,bg.astype(np.uint8))\n",
    "#             cv2.imshow('img', dif)\n",
    "            _,thresh_frame = cv2.threshold(dif,80, 255, cv2.THRESH_BINARY)\n",
    "#             cv2.imshow('img', thresh_frame)\n",
    "            contours, hierarchy = cv2.findContours(thresh_frame,cv2.RETR_TREE,cv2.CHAIN_APPROX_SIMPLE) \n",
    "            for cnt in contours:\n",
    "                x,y,w,h = cv2.boundingRect(cnt)\n",
    "                if w>50 and h>50:\n",
    "                    cv2.rectangle(frame,(x,y),(x+w,y+h),(0,255,0),2)                \n",
    "            cv2.imshow('img', frame)\n",
    "            if cv2.waitKey(30) & 0xFF == ord('q'):\n",
    "                cv2.destroyAllWindows()\n",
    "                break\n",
    "            hist_frames.pop(0)\n",
    "    else:\n",
    "        cv2.destroyAllWindows()\n",
    "        break"
   ]
  },
  {
   "cell_type": "markdown",
   "metadata": {},
   "source": [
    "### 混合高斯背景建模"
   ]
  },
  {
   "cell_type": "code",
   "execution_count": 11,
   "metadata": {},
   "outputs": [],
   "source": [
    "import pdb,cv2\n",
    "import numpy as np\n",
    "#-----------背景建模和差分\n",
    "cap = cv2.VideoCapture('test.avi') #0或者其他数字代表摄像头ID\n",
    "ret, frame0 = cap.read()\n",
    "gray0 = cv2.cvtColor(frame0, cv2.COLOR_BGR2GRAY)\n",
    "backSub = cv2.createBackgroundSubtractorMOG2()\n",
    "while True:\n",
    "    ret, frame = cap.read()\n",
    "    if ret:\n",
    "#         gray = cv2.cvtColor(frame, cv2.COLOR_BGR2GRAY)\n",
    "        fgMask = backSub.apply(frame)\n",
    "#         _,thresh_frame = cv2.threshold(dif,128, 255, cv2.THRESH_BINARY)\n",
    "#         cv2.imshow('img', fgMask)\n",
    "        contours, hierarchy = cv2.findContours(fgMask,cv2.RETR_TREE,cv2.CHAIN_APPROX_SIMPLE) \n",
    "        for cnt in contours:\n",
    "            x,y,w,h = cv2.boundingRect(cnt)\n",
    "            if w>50 and h>50:\n",
    "                cv2.rectangle(frame,(x,y),(x+w,y+h),(0,255,0),2)                \n",
    "        cv2.imshow('img', frame)\n",
    "        if cv2.waitKey(30) & 0xFF == ord('q'):\n",
    "            cv2.destroyAllWindows()\n",
    "            break\n",
    "    else:\n",
    "        cv2.destroyAllWindows()\n",
    "        break"
   ]
  },
  {
   "cell_type": "markdown",
   "metadata": {},
   "source": [
    "### 目标跟踪"
   ]
  },
  {
   "cell_type": "code",
   "execution_count": null,
   "metadata": {},
   "outputs": [],
   "source": []
  }
 ],
 "metadata": {
  "kernelspec": {
   "display_name": "Python 3",
   "language": "python",
   "name": "python3"
  },
  "language_info": {
   "codemirror_mode": {
    "name": "ipython",
    "version": 3
   },
   "file_extension": ".py",
   "mimetype": "text/x-python",
   "name": "python",
   "nbconvert_exporter": "python",
   "pygments_lexer": "ipython3",
   "version": "3.8.5"
  }
 },
 "nbformat": 4,
 "nbformat_minor": 5
}
