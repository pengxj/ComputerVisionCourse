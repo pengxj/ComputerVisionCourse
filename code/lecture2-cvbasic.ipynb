{
 "cells": [
  {
   "cell_type": "markdown",
   "metadata": {},
   "source": [
    "# OpenCV图像操作"
   ]
  },
  {
   "cell_type": "code",
   "execution_count": 3,
   "metadata": {},
   "outputs": [
    {
     "data": {
      "text/plain": [
       "True"
      ]
     },
     "execution_count": 3,
     "metadata": {},
     "output_type": "execute_result"
    }
   ],
   "source": [
    "import cv2\n",
    "import numpy as np\n",
    "from  matplotlib import pyplot as plt\n",
    "%matplotlib inline\n",
    "\n",
    "#------图像显示\n",
    "def cvshow(img):\n",
    "    cv2.imshow('img', img)\n",
    "    cv2.waitKey(0)\n",
    "    cv2.destroyAllWindows()\n",
    "\n",
    "def show(img):\n",
    "    if img.ndim == 2:\n",
    "        plt.imshow(img,cmap=\"gray\")\n",
    "    elif img.ndim == 3:\n",
    "        plt.imshow(img)\n",
    "    plt.show()\n",
    "\n",
    "#------图像读取\n",
    "img = cv2.imread('images/lena.png')\n",
    "cvshow(img)\n",
    "#------图像上面画图操作\n",
    "rec_img = cv2.rectangle(img,(50,50),(100,100),(0,255,0),-1)\n",
    "cvshow(img)\n",
    "cv2.imwrite('lena-copy.jpg',rec_img)"
   ]
  },
  {
   "cell_type": "code",
   "execution_count": null,
   "metadata": {},
   "outputs": [],
   "source": []
  }
 ],
 "metadata": {
  "kernelspec": {
   "display_name": "Python 3",
   "language": "python",
   "name": "python3"
  },
  "language_info": {
   "codemirror_mode": {
    "name": "ipython",
    "version": 3
   },
   "file_extension": ".py",
   "mimetype": "text/x-python",
   "name": "python",
   "nbconvert_exporter": "python",
   "pygments_lexer": "ipython3",
   "version": "3.8.5"
  }
 },
 "nbformat": 4,
 "nbformat_minor": 4
}
